{
 "cells": [
  {
   "cell_type": "code",
   "execution_count": null,
   "metadata": {},
   "outputs": [],
   "source": [
    "%matplotlib inline\n",
    "import matplotlib.pyplot as plt\n",
    "import numpy as np\n",
    "from scipy.stats import chi2\n",
    "from decimal import Decimal\n",
    "\n",
    "def format_e(n):\n",
    "    a = '%e' % Decimal(n)\n",
    "    return a.split('e')[0].rstrip('0').rstrip('.')+'e'+a.split('e')[1]"
   ]
  },
  {
   "cell_type": "code",
   "execution_count": null,
   "metadata": {},
   "outputs": [],
   "source": [
    "#Messwerte aus Tabelle 1: h_3 über h_1\n",
    "h_1 = np.array([102,90,11,22,37,69]) # Starthöhe [mm]\n",
    "Fehler_h_1 = np.array([2,2,2,2,2])\n",
    "\n",
    "h_1 = np.array([25,23,27,9,15]) # Endhöhe [mm]\n",
    "Fehler_h_3 = np.array([2,2,2,2,2])\n",
    "\n",
    "#Messwerte aus Tabelle 2: Messung für Luft unr Argon\n",
    "p = 1010.3 *1e2 # Raumdruck [Pa]\n",
    "Fehler_p = 0.1 *1e2\n",
    "\n",
    "T_Luft = 47.61 /50 # Periodendauer [s]\n",
    "Fehler_T_Luft = 0.3 * np.sqrt(2) /50# 2 Messungen mit menschlicher Reaktionszeit von 300 ms\n",
    "T__Argon = 46.14 /50\n",
    "Fehler_T_Argon = 0.3 * np.sqrt(2) /50\n",
    "\n",
    "V_Luft = 5370 *1e-6 # Volumen [m^3]\n",
    "Fehler_V_Luft = 5 *1e-6\n",
    "V__Argon = 5460 *1e-6\n",
    "Fehler_V_Argon = 5 *1e-6\n",
    "\n",
    "m_Luft = 26.116 *1e-3 # Massed [kg]\n",
    "Fehler_m_Luft = 0.002 *1e-3\n",
    "m__Argon = 26.006 *1e-3\n",
    "Fehler_m_Argon = 0.002 *1e-3\n",
    "\n",
    "r_Luft = 15.95 /2 *1e-3 # Radius [m]\n",
    "Fehler_r_Luft = 0.02 /2 *1e-3\n",
    "r__Argon = 15.97 *1e-3\n",
    "Fehler_r_Argon = 0.05 /2 *1e-3\n"
   ]
  }
 ],
 "metadata": {
  "kernelspec": {
   "display_name": "Python 3",
   "language": "python",
   "name": "python3"
  },
  "language_info": {
   "codemirror_mode": {
    "name": "ipython",
    "version": 3
   },
   "file_extension": ".py",
   "mimetype": "text/x-python",
   "name": "python",
   "nbconvert_exporter": "python",
   "pygments_lexer": "ipython3",
   "version": "3.7.0"
  }
 },
 "nbformat": 4,
 "nbformat_minor": 2
}
